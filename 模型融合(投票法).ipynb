{
  "metadata": {
    "kernelspec": {
      "language": "python",
      "display_name": "Python 3",
      "name": "python3"
    },
    "language_info": {
      "name": "python",
      "version": "3.11.11",
      "mimetype": "text/x-python",
      "codemirror_mode": {
        "name": "ipython",
        "version": 3
      },
      "pygments_lexer": "ipython3",
      "nbconvert_exporter": "python",
      "file_extension": ".py"
    },
    "kaggle": {
      "accelerator": "none",
      "dataSources": [
        {
          "sourceId": 11981682,
          "sourceType": "datasetVersion",
          "datasetId": 7535469
        }
      ],
      "dockerImageVersionId": 31040,
      "isInternetEnabled": false,
      "language": "python",
      "sourceType": "notebook",
      "isGpuEnabled": false
    },
    "colab": {
      "provenance": []
    }
  },
  "nbformat_minor": 0,
  "nbformat": 4,
  "cells": [
    {
      "cell_type": "code",
      "source": [
        "#最終最佳版本\n",
        "import pandas as pd\n",
        "\n",
        "# 只讀這兩個 submission\n",
        "sub_files = [\n",
        "    '/kaggle/input/model-submission/submission/submission (1).csv',\n",
        "    '/kaggle/input/model-submission/submission/EfficientNetB0submission.csv'\n",
        "]\n",
        "\n",
        "subs = [pd.read_csv(f) for f in sub_files]\n",
        "\n",
        "# 排序並重設 index\n",
        "for i in range(len(subs)):\n",
        "    subs[i] = subs[i].sort_values('id').reset_index(drop=True)\n",
        "\n",
        "# 確認 id 一致\n",
        "if not subs[0]['id'].equals(subs[1]['id']):\n",
        "    print(\"兩份 submission 的 id 不一致\")\n",
        "    diff_idx = subs[0]['id'] != subs[1]['id']\n",
        "    print(pd.concat([subs[0]['id'][diff_idx], subs[1]['id'][diff_idx]], axis=1))\n",
        "    raise ValueError(\"id 欄位不一致\")\n",
        "\n",
        "print(\"兩份 submission 的 id 完全一致\")\n",
        "\n",
        "ids = subs[0]['id']\n",
        "prob_cols = subs[0].columns.drop('id')\n",
        "\n",
        "# 檢查機率加總\n",
        "for i, df in enumerate(subs):\n",
        "    sums = df[prob_cols].sum(axis=1)\n",
        "    print(f\"submission {i} 機率加總統計：\")\n",
        "    print(sums.describe())\n",
        "\n",
        "# 平均融合\n",
        "avg_probs = (subs[0][prob_cols] + subs[1][prob_cols]) / 2\n",
        "\n",
        "final_submission = pd.concat([ids, avg_probs], axis=1)\n",
        "\n",
        "final_submission.to_csv('submission_fusion_two_models.csv', index=False)\n",
        "\n",
        "print(\"融合完成，輸出 submission_fusion_two_models.csv\")"
      ],
      "metadata": {
        "trusted": true,
        "execution": {
          "iopub.status.busy": "2025-05-28T10:34:11.558570Z",
          "iopub.execute_input": "2025-05-28T10:34:11.559341Z",
          "iopub.status.idle": "2025-05-28T10:34:14.836443Z",
          "shell.execute_reply.started": "2025-05-28T10:34:11.559316Z",
          "shell.execute_reply": "2025-05-28T10:34:14.835676Z"
        },
        "id": "Tyk3zoQLzCC5",
        "outputId": "d0bf1336-87d2-4db1-d9f0-1bec33b6c2ae"
      },
      "outputs": [
        {
          "name": "stdout",
          "text": "兩份 submission 的 id 完全一致！\nsubmission 0 機率加總統計：\ncount    1.035700e+04\nmean     1.000000e+00\nstd      1.005333e-07\nmin      9.999996e-01\n25%      9.999999e-01\n50%      1.000000e+00\n75%      1.000000e+00\nmax      1.000000e+00\ndtype: float64\nsubmission 1 機率加總統計：\ncount    1.035700e+04\nmean     1.000000e+00\nstd      7.622626e-08\nmin      9.999997e-01\n25%      1.000000e+00\n50%      1.000000e+00\n75%      1.000000e+00\nmax      1.000000e+00\ndtype: float64\n融合完成，輸出 submission_fusion_two_models.csv\n",
          "output_type": "stream"
        }
      ],
      "execution_count": null
    }
  ]
}